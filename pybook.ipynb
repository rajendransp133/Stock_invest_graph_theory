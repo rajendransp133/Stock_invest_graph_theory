{
 "cells": [
  {
   "cell_type": "code",
   "execution_count": 15,
   "id": "6d22a9ae",
   "metadata": {},
   "outputs": [],
   "source": [
    "import pandas as pd\n",
    "import datetime as dt\n",
    "import numpy as np\n",
    "import yfinance as yf\n",
    "import matplotlib.pyplot as plt"
   ]
  },
  {
   "cell_type": "code",
   "execution_count": 16,
   "id": "9f17fba0",
   "metadata": {},
   "outputs": [],
   "source": [
    "import statistics as statistics"
   ]
  },
  {
   "cell_type": "code",
   "execution_count": 17,
   "id": "0d662d38",
   "metadata": {},
   "outputs": [],
   "source": [
    " import networkx as nx"
   ]
  },
  {
   "cell_type": "code",
   "execution_count": 18,
   "id": "1cd19a80",
   "metadata": {
    "scrolled": true
   },
   "outputs": [
    {
     "name": "stdout",
     "output_type": "stream",
     "text": [
      "enter list of input ticker,give DONE if overADANIENT.NS\n",
      "\n",
      "ITC.NS\n",
      "\n",
      "TITAN.NS\n",
      "\n",
      "TCS.NS\n",
      "\n",
      "RELIANCE.NS\n",
      "\n",
      "DONE\n",
      "Enter Start_date in YYYY,MM,DD(comma-separateed) \n",
      "2014,1,1\n",
      "Enter End_date in YYYY,MM,DD(comma-seperated) \n",
      "2018,1,1\n",
      "[*********************100%***********************]  5 of 5 completed\n"
     ]
    }
   ],
   "source": [
    "input_list=[]\n",
    "input_str=input(\"enter list of input ticker,give DONE if over\")\n",
    "\n",
    "while input_str!=\"DONE\":\n",
    "    input_list.append(input_str)\n",
    "    input_str=input(\"\\n\")\n",
    "\n",
    "_start = input(\"Enter Start_date in YYYY,MM,DD(comma-separateed) \\n\")\n",
    "_end = input(\"Enter End_date in YYYY,MM,DD(comma-seperated) \\n\")\n",
    "_start = _start.split(',')\n",
    "_end = _end.split(',')\n",
    "_start=[int(i) for i in _start ]\n",
    "_end=[int(j) for j in _end ]\n",
    "_start = dt.date(_start[0],_start[1],_start[2])\n",
    "_end = dt.date(_end[0],_end[1],_end[2])\n",
    "df = yf.download(input_list, start = _start, end = _end)"
   ]
  },
  {
   "cell_type": "code",
   "execution_count": 19,
   "id": "8cd07621",
   "metadata": {},
   "outputs": [],
   "source": [
    "df=df['Adj Close']"
   ]
  },
  {
   "cell_type": "code",
   "execution_count": 20,
   "id": "14ffbbd2",
   "metadata": {},
   "outputs": [],
   "source": [
    "df=df.pct_change()"
   ]
  },
  {
   "cell_type": "code",
   "execution_count": 21,
   "id": "6b28f62d",
   "metadata": {},
   "outputs": [],
   "source": [
    "df.dropna(axis=0,inplace=True)"
   ]
  },
  {
   "cell_type": "code",
   "execution_count": 22,
   "id": "6490a528",
   "metadata": {},
   "outputs": [],
   "source": [
    "corr=np.zeros((len(input_list),len(input_list)))\n",
    "adj_matrix=np.zeros((len(input_list),len(input_list)))"
   ]
  },
  {
   "cell_type": "code",
   "execution_count": 23,
   "id": "23328469",
   "metadata": {},
   "outputs": [],
   "source": [
    "corr_list=[]"
   ]
  },
  {
   "cell_type": "code",
   "execution_count": 24,
   "id": "1025c4f4",
   "metadata": {},
   "outputs": [],
   "source": [
    "def correlation(x,y):\n",
    "    x_mean=x.mean()\n",
    "    y_mean=y.mean()\n",
    "    num_sum=0\n",
    "    top_left_sqrd_sum=0\n",
    "    top_right_sqrd_sum=0\n",
    "    for i in range(len(x)):\n",
    "        top_left=(x[i]-x_mean)\n",
    "        top_right=(y[i]-y_mean)\n",
    "        num_sum+=(top_left*top_right)\n",
    "        top_left_sqrd_sum+=(top_left**2)\n",
    "        top_right_sqrd_sum+=(top_right**2)\n",
    "    corr_value=num_sum/((top_left_sqrd_sum*top_right_sqrd_sum)**(0.5))\n",
    "    return corr_value"
   ]
  },
  {
   "cell_type": "code",
   "execution_count": 25,
   "id": "bf63dbdb",
   "metadata": {},
   "outputs": [],
   "source": [
    "for i in range(0,len(input_list)):\n",
    "     for j in range(0,len(input_list)):\n",
    "            if i != j:\n",
    "                corr[i,j]=round(abs(correlation(df[input_list[i]],df[input_list[j]])),2)\n",
    "                corr_list.append(correlation(df[input_list[i]],df[input_list[j]]))"
   ]
  },
  {
   "cell_type": "code",
   "execution_count": 26,
   "id": "c78388f2",
   "metadata": {},
   "outputs": [
    {
     "data": {
      "text/plain": [
       "array([[0.  , 0.13, 0.2 , 0.06, 0.27],\n",
       "       [0.13, 0.  , 0.2 , 0.14, 0.15],\n",
       "       [0.2 , 0.2 , 0.  , 0.14, 0.17],\n",
       "       [0.06, 0.14, 0.14, 0.  , 0.09],\n",
       "       [0.27, 0.15, 0.17, 0.09, 0.  ]])"
      ]
     },
     "execution_count": 26,
     "metadata": {},
     "output_type": "execute_result"
    }
   ],
   "source": [
    "corr"
   ]
  },
  {
   "cell_type": "code",
   "execution_count": 27,
   "id": "a92d570f",
   "metadata": {},
   "outputs": [],
   "source": [
    "#uncorrelated portfolio(Diversified)\n",
    "\n",
    "threshold=0.15\n",
    "for i in range(0,len(input_list)):\n",
    "     for j in range(0,len(input_list)):\n",
    "            if i != j:\n",
    "                if corr[i,j]<=threshold:\n",
    "                    adj_matrix[i,j]=1"
   ]
  },
  {
   "cell_type": "code",
   "execution_count": 28,
   "id": "5918ea8f",
   "metadata": {},
   "outputs": [
    {
     "data": {
      "text/plain": [
       "array([[0., 1., 0., 1., 0.],\n",
       "       [1., 0., 0., 1., 1.],\n",
       "       [0., 0., 0., 1., 0.],\n",
       "       [1., 1., 1., 0., 1.],\n",
       "       [0., 1., 0., 1., 0.]])"
      ]
     },
     "execution_count": 28,
     "metadata": {},
     "output_type": "execute_result"
    }
   ],
   "source": [
    "adj_matrix"
   ]
  },
  {
   "cell_type": "code",
   "execution_count": 131,
   "id": "bcf56e6c",
   "metadata": {},
   "outputs": [
    {
     "ename": "AttributeError",
     "evalue": "'numpy.ndarray' object has no attribute 'is_directed'",
     "output_type": "error",
     "traceback": [
      "\u001b[1;31m---------------------------------------------------------------------------\u001b[0m",
      "\u001b[1;31mAttributeError\u001b[0m                            Traceback (most recent call last)",
      "Input \u001b[1;32mIn [131]\u001b[0m, in \u001b[0;36m<cell line: 1>\u001b[1;34m()\u001b[0m\n\u001b[1;32m----> 1\u001b[0m complete_graphs \u001b[38;5;241m=\u001b[39m [s \u001b[38;5;28;01mfor\u001b[39;00m s \u001b[38;5;129;01min\u001b[39;00m nx\u001b[38;5;241m.\u001b[39menumerate_all_cliques(adj_matrix) \u001b[38;5;28;01mif\u001b[39;00m \u001b[38;5;28mlen\u001b[39m(s) \u001b[38;5;241m>\u001b[39m \u001b[38;5;241m1\u001b[39m]\n\u001b[0;32m      2\u001b[0m max_complete_graph \u001b[38;5;241m=\u001b[39m complete_graphs[\u001b[38;5;28mlen\u001b[39m(complete_graphs)\u001b[38;5;241m-\u001b[39m\u001b[38;5;241m1\u001b[39m]\n\u001b[0;32m      3\u001b[0m \u001b[38;5;28mprint\u001b[39m(max_complete_graph)\n",
      "Input \u001b[1;32mIn [131]\u001b[0m, in \u001b[0;36m<listcomp>\u001b[1;34m(.0)\u001b[0m\n\u001b[1;32m----> 1\u001b[0m complete_graphs \u001b[38;5;241m=\u001b[39m [s \u001b[38;5;28;01mfor\u001b[39;00m s \u001b[38;5;129;01min\u001b[39;00m nx\u001b[38;5;241m.\u001b[39menumerate_all_cliques(adj_matrix) \u001b[38;5;28;01mif\u001b[39;00m \u001b[38;5;28mlen\u001b[39m(s) \u001b[38;5;241m>\u001b[39m \u001b[38;5;241m1\u001b[39m]\n\u001b[0;32m      2\u001b[0m max_complete_graph \u001b[38;5;241m=\u001b[39m complete_graphs[\u001b[38;5;28mlen\u001b[39m(complete_graphs)\u001b[38;5;241m-\u001b[39m\u001b[38;5;241m1\u001b[39m]\n\u001b[0;32m      3\u001b[0m \u001b[38;5;28mprint\u001b[39m(max_complete_graph)\n",
      "File \u001b[1;32m~\\Anaconda3\\lib\\site-packages\\networkx\\utils\\decorators.py:811\u001b[0m, in \u001b[0;36margmap.__call__.<locals>.func\u001b[1;34m(_argmap__wrapper, *args, **kwargs)\u001b[0m\n\u001b[0;32m    810\u001b[0m \u001b[38;5;28;01mdef\u001b[39;00m \u001b[38;5;21mfunc\u001b[39m(\u001b[38;5;241m*\u001b[39margs, __wrapper\u001b[38;5;241m=\u001b[39m\u001b[38;5;28;01mNone\u001b[39;00m, \u001b[38;5;241m*\u001b[39m\u001b[38;5;241m*\u001b[39mkwargs):\n\u001b[1;32m--> 811\u001b[0m     \u001b[38;5;28;01myield from\u001b[39;00m argmap\u001b[38;5;241m.\u001b[39m_lazy_compile(__wrapper)(\u001b[38;5;241m*\u001b[39margs, \u001b[38;5;241m*\u001b[39m\u001b[38;5;241m*\u001b[39mkwargs)\n",
      "File \u001b[1;32m<class 'networkx.utils.decorators.argmap'> compilation 4:3\u001b[0m, in \u001b[0;36margmap_enumerate_all_cliques_1\u001b[1;34m(G)\u001b[0m\n\u001b[0;32m      1\u001b[0m \u001b[38;5;28;01mfrom\u001b[39;00m \u001b[38;5;21;01mcollections\u001b[39;00m \u001b[38;5;28;01mimport\u001b[39;00m defaultdict\n\u001b[0;32m      2\u001b[0m \u001b[38;5;28;01mfrom\u001b[39;00m \u001b[38;5;21;01mos\u001b[39;00m\u001b[38;5;21;01m.\u001b[39;00m\u001b[38;5;21;01mpath\u001b[39;00m \u001b[38;5;28;01mimport\u001b[39;00m splitext\n\u001b[1;32m----> 3\u001b[0m \u001b[38;5;28;01mfrom\u001b[39;00m \u001b[38;5;21;01mcontextlib\u001b[39;00m \u001b[38;5;28;01mimport\u001b[39;00m contextmanager\n\u001b[0;32m      4\u001b[0m \u001b[38;5;28;01mfrom\u001b[39;00m \u001b[38;5;21;01mpathlib\u001b[39;00m \u001b[38;5;28;01mimport\u001b[39;00m Path\n\u001b[0;32m      6\u001b[0m \u001b[38;5;28;01mimport\u001b[39;00m \u001b[38;5;21;01mnetworkx\u001b[39;00m \u001b[38;5;28;01mas\u001b[39;00m \u001b[38;5;21;01mnx\u001b[39;00m\n",
      "File \u001b[1;32m~\\Anaconda3\\lib\\site-packages\\networkx\\utils\\decorators.py:84\u001b[0m, in \u001b[0;36mnot_implemented_for.<locals>._not_implemented_for\u001b[1;34m(g)\u001b[0m\n\u001b[0;32m     82\u001b[0m \u001b[38;5;28;01mdef\u001b[39;00m \u001b[38;5;21m_not_implemented_for\u001b[39m(g):\n\u001b[0;32m     83\u001b[0m     \u001b[38;5;28;01mif\u001b[39;00m (mval \u001b[38;5;129;01mis\u001b[39;00m \u001b[38;5;28;01mNone\u001b[39;00m \u001b[38;5;129;01mor\u001b[39;00m mval \u001b[38;5;241m==\u001b[39m g\u001b[38;5;241m.\u001b[39mis_multigraph()) \u001b[38;5;129;01mand\u001b[39;00m (\n\u001b[1;32m---> 84\u001b[0m         dval \u001b[38;5;129;01mis\u001b[39;00m \u001b[38;5;28;01mNone\u001b[39;00m \u001b[38;5;129;01mor\u001b[39;00m dval \u001b[38;5;241m==\u001b[39m \u001b[43mg\u001b[49m\u001b[38;5;241;43m.\u001b[39;49m\u001b[43mis_directed\u001b[49m()\n\u001b[0;32m     85\u001b[0m     ):\n\u001b[0;32m     86\u001b[0m         \u001b[38;5;28;01mraise\u001b[39;00m nx\u001b[38;5;241m.\u001b[39mNetworkXNotImplemented(errmsg)\n\u001b[0;32m     88\u001b[0m     \u001b[38;5;28;01mreturn\u001b[39;00m g\n",
      "\u001b[1;31mAttributeError\u001b[0m: 'numpy.ndarray' object has no attribute 'is_directed'"
     ]
    }
   ],
   "source": [
    "complete_graphs = [s for s in nx.enumerate_all_cliques(adj_matrix) if len(s) > 1]\n",
    "max_complete_graph = complete_graphs[len(complete_graphs)-1]\n",
    "print(max_complete_graph) "
   ]
  },
  {
   "cell_type": "code",
   "execution_count": null,
   "id": "be001c94",
   "metadata": {},
   "outputs": [],
   "source": []
  }
 ],
 "metadata": {
  "kernelspec": {
   "display_name": "Python 3 (ipykernel)",
   "language": "python",
   "name": "python3"
  },
  "language_info": {
   "codemirror_mode": {
    "name": "ipython",
    "version": 3
   },
   "file_extension": ".py",
   "mimetype": "text/x-python",
   "name": "python",
   "nbconvert_exporter": "python",
   "pygments_lexer": "ipython3",
   "version": "3.9.12"
  }
 },
 "nbformat": 4,
 "nbformat_minor": 5
}
