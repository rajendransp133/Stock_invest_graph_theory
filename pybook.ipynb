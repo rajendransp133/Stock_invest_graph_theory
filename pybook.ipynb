{
 "cells": [
  {
   "cell_type": "code",
   "execution_count": 286,
   "id": "6d22a9ae",
   "metadata": {},
   "outputs": [],
   "source": [
    "import pandas as pd\n",
    "import datetime as dt\n",
    "import numpy as np\n",
    "import yfinance as yf\n",
    "import matplotlib.pyplot as plt\n",
    "import scipy.stats as scipy"
   ]
  },
  {
   "cell_type": "code",
   "execution_count": 287,
   "id": "9f17fba0",
   "metadata": {},
   "outputs": [],
   "source": [
    "import statistics as statistics"
   ]
  },
  {
   "cell_type": "code",
   "execution_count": 288,
   "id": "0d662d38",
   "metadata": {},
   "outputs": [],
   "source": [
    " import networkx as nx"
   ]
  },
  {
   "cell_type": "code",
   "execution_count": 289,
   "id": "1cd19a80",
   "metadata": {
    "scrolled": true
   },
   "outputs": [
    {
     "name": "stdout",
     "output_type": "stream",
     "text": [
      "enter list of input ticker,give DONE if overWIPRO.NS\n",
      "\n",
      "TITAN.NS\n",
      "\n",
      "TCS.NS\n",
      "\n",
      "ITC.NS\n",
      "\n",
      "CIPLA.NS\n",
      "\n",
      "ONGC.NS\n",
      "\n",
      "ADANIENT.NS\n",
      "\n",
      "MARUTI.NS\n",
      "\n",
      "RELIANCE.NS\n",
      "\n",
      "HINDALCO.NS\n",
      "\n",
      "DONE\n",
      "Enter Start_date in YYYY,MM,DD(comma-separateed) \n",
      "2014,1,1\n",
      "Enter End_date in YYYY,MM,DD(comma-seperated) \n",
      "2018,1,1\n",
      "[*********************100%***********************]  10 of 10 completed\n"
     ]
    }
   ],
   "source": [
    "input_list=[]\n",
    "input_str=input(\"enter list of input ticker,give DONE if over\")\n",
    "\n",
    "while input_str!=\"DONE\":\n",
    "    input_list.append(input_str)\n",
    "    input_str=input(\"\\n\")\n",
    "\n",
    "_start = input(\"Enter Start_date in YYYY,MM,DD(comma-separateed) \\n\")\n",
    "_end = input(\"Enter End_date in YYYY,MM,DD(comma-seperated) \\n\")\n",
    "_start = _start.split(',')\n",
    "_end = _end.split(',')\n",
    "_start=[int(i) for i in _start ]\n",
    "_end=[int(j) for j in _end ]\n",
    "_start = dt.date(_start[0],_start[1],_start[2])\n",
    "_end = dt.date(_end[0],_end[1],_end[2])\n",
    "df = yf.download(input_list, start = _start, end = _end)"
   ]
  },
  {
   "cell_type": "code",
   "execution_count": 292,
   "id": "8cd07621",
   "metadata": {},
   "outputs": [],
   "source": [
    "df=df['Adj Close']"
   ]
  },
  {
   "cell_type": "code",
   "execution_count": 294,
   "id": "14ffbbd2",
   "metadata": {},
   "outputs": [],
   "source": [
    "df=df.pct_change()"
   ]
  },
  {
   "cell_type": "code",
   "execution_count": 296,
   "id": "c7aabf51",
   "metadata": {},
   "outputs": [],
   "source": [
    "df.dropna(axis=0,inplace=True)"
   ]
  },
  {
   "cell_type": "code",
   "execution_count": 297,
   "id": "ac5a04aa",
   "metadata": {},
   "outputs": [
    {
     "data": {
      "text/html": [
       "<div>\n",
       "<style scoped>\n",
       "    .dataframe tbody tr th:only-of-type {\n",
       "        vertical-align: middle;\n",
       "    }\n",
       "\n",
       "    .dataframe tbody tr th {\n",
       "        vertical-align: top;\n",
       "    }\n",
       "\n",
       "    .dataframe thead th {\n",
       "        text-align: right;\n",
       "    }\n",
       "</style>\n",
       "<table border=\"1\" class=\"dataframe\">\n",
       "  <thead>\n",
       "    <tr style=\"text-align: right;\">\n",
       "      <th></th>\n",
       "      <th>ADANIENT.NS</th>\n",
       "      <th>CIPLA.NS</th>\n",
       "      <th>HINDALCO.NS</th>\n",
       "      <th>ITC.NS</th>\n",
       "      <th>MARUTI.NS</th>\n",
       "      <th>ONGC.NS</th>\n",
       "      <th>RELIANCE.NS</th>\n",
       "      <th>TCS.NS</th>\n",
       "      <th>TITAN.NS</th>\n",
       "      <th>WIPRO.NS</th>\n",
       "    </tr>\n",
       "    <tr>\n",
       "      <th>Date</th>\n",
       "      <th></th>\n",
       "      <th></th>\n",
       "      <th></th>\n",
       "      <th></th>\n",
       "      <th></th>\n",
       "      <th></th>\n",
       "      <th></th>\n",
       "      <th></th>\n",
       "      <th></th>\n",
       "      <th></th>\n",
       "    </tr>\n",
       "  </thead>\n",
       "  <tbody>\n",
       "    <tr>\n",
       "      <th>2014-01-02</th>\n",
       "      <td>-0.049860</td>\n",
       "      <td>-0.023522</td>\n",
       "      <td>-0.009442</td>\n",
       "      <td>-0.023108</td>\n",
       "      <td>0.002494</td>\n",
       "      <td>-0.022214</td>\n",
       "      <td>-0.015527</td>\n",
       "      <td>0.006362</td>\n",
       "      <td>-0.019281</td>\n",
       "      <td>0.000453</td>\n",
       "    </tr>\n",
       "    <tr>\n",
       "      <th>2014-01-03</th>\n",
       "      <td>-0.027413</td>\n",
       "      <td>-0.001402</td>\n",
       "      <td>-0.015748</td>\n",
       "      <td>-0.000635</td>\n",
       "      <td>0.017077</td>\n",
       "      <td>-0.020944</td>\n",
       "      <td>-0.012286</td>\n",
       "      <td>0.025473</td>\n",
       "      <td>0.004639</td>\n",
       "      <td>0.006601</td>\n",
       "    </tr>\n",
       "    <tr>\n",
       "      <th>2014-01-06</th>\n",
       "      <td>0.014898</td>\n",
       "      <td>-0.000383</td>\n",
       "      <td>-0.004211</td>\n",
       "      <td>0.002860</td>\n",
       "      <td>0.005060</td>\n",
       "      <td>0.018673</td>\n",
       "      <td>-0.010761</td>\n",
       "      <td>0.007830</td>\n",
       "      <td>0.001759</td>\n",
       "      <td>0.002515</td>\n",
       "    </tr>\n",
       "    <tr>\n",
       "      <th>2014-01-07</th>\n",
       "      <td>-0.040071</td>\n",
       "      <td>-0.001915</td>\n",
       "      <td>-0.018605</td>\n",
       "      <td>0.003326</td>\n",
       "      <td>0.021049</td>\n",
       "      <td>-0.016729</td>\n",
       "      <td>-0.015030</td>\n",
       "      <td>-0.014936</td>\n",
       "      <td>-0.007682</td>\n",
       "      <td>-0.013978</td>\n",
       "    </tr>\n",
       "    <tr>\n",
       "      <th>2014-01-08</th>\n",
       "      <td>-0.007439</td>\n",
       "      <td>0.034156</td>\n",
       "      <td>-0.006894</td>\n",
       "      <td>0.000474</td>\n",
       "      <td>-0.004470</td>\n",
       "      <td>-0.011041</td>\n",
       "      <td>0.008253</td>\n",
       "      <td>0.012012</td>\n",
       "      <td>-0.014599</td>\n",
       "      <td>-0.005544</td>\n",
       "    </tr>\n",
       "    <tr>\n",
       "      <th>...</th>\n",
       "      <td>...</td>\n",
       "      <td>...</td>\n",
       "      <td>...</td>\n",
       "      <td>...</td>\n",
       "      <td>...</td>\n",
       "      <td>...</td>\n",
       "      <td>...</td>\n",
       "      <td>...</td>\n",
       "      <td>...</td>\n",
       "      <td>...</td>\n",
       "    </tr>\n",
       "    <tr>\n",
       "      <th>2017-12-22</th>\n",
       "      <td>0.001845</td>\n",
       "      <td>0.002334</td>\n",
       "      <td>0.017281</td>\n",
       "      <td>0.000190</td>\n",
       "      <td>0.007159</td>\n",
       "      <td>0.028723</td>\n",
       "      <td>0.008160</td>\n",
       "      <td>0.019667</td>\n",
       "      <td>-0.001864</td>\n",
       "      <td>0.012930</td>\n",
       "    </tr>\n",
       "    <tr>\n",
       "      <th>2017-12-26</th>\n",
       "      <td>0.001841</td>\n",
       "      <td>0.017548</td>\n",
       "      <td>0.002987</td>\n",
       "      <td>0.003991</td>\n",
       "      <td>-0.002165</td>\n",
       "      <td>0.001551</td>\n",
       "      <td>0.010213</td>\n",
       "      <td>0.001020</td>\n",
       "      <td>-0.002393</td>\n",
       "      <td>0.004310</td>\n",
       "    </tr>\n",
       "    <tr>\n",
       "      <th>2017-12-27</th>\n",
       "      <td>0.016851</td>\n",
       "      <td>0.001471</td>\n",
       "      <td>-0.010795</td>\n",
       "      <td>-0.007571</td>\n",
       "      <td>-0.003606</td>\n",
       "      <td>-0.005679</td>\n",
       "      <td>-0.006507</td>\n",
       "      <td>-0.011153</td>\n",
       "      <td>-0.006727</td>\n",
       "      <td>0.012215</td>\n",
       "    </tr>\n",
       "    <tr>\n",
       "      <th>2017-12-28</th>\n",
       "      <td>-0.004218</td>\n",
       "      <td>-0.010773</td>\n",
       "      <td>0.035748</td>\n",
       "      <td>-0.001144</td>\n",
       "      <td>-0.001545</td>\n",
       "      <td>0.002077</td>\n",
       "      <td>0.000487</td>\n",
       "      <td>0.002691</td>\n",
       "      <td>0.003121</td>\n",
       "      <td>0.004566</td>\n",
       "    </tr>\n",
       "    <tr>\n",
       "      <th>2017-12-29</th>\n",
       "      <td>0.006657</td>\n",
       "      <td>0.004042</td>\n",
       "      <td>-0.006176</td>\n",
       "      <td>0.005347</td>\n",
       "      <td>0.010422</td>\n",
       "      <td>0.011399</td>\n",
       "      <td>-0.003408</td>\n",
       "      <td>0.028265</td>\n",
       "      <td>0.007573</td>\n",
       "      <td>0.020292</td>\n",
       "    </tr>\n",
       "  </tbody>\n",
       "</table>\n",
       "<p>983 rows × 10 columns</p>\n",
       "</div>"
      ],
      "text/plain": [
       "            ADANIENT.NS  CIPLA.NS  HINDALCO.NS    ITC.NS  MARUTI.NS   ONGC.NS  \\\n",
       "Date                                                                            \n",
       "2014-01-02    -0.049860 -0.023522    -0.009442 -0.023108   0.002494 -0.022214   \n",
       "2014-01-03    -0.027413 -0.001402    -0.015748 -0.000635   0.017077 -0.020944   \n",
       "2014-01-06     0.014898 -0.000383    -0.004211  0.002860   0.005060  0.018673   \n",
       "2014-01-07    -0.040071 -0.001915    -0.018605  0.003326   0.021049 -0.016729   \n",
       "2014-01-08    -0.007439  0.034156    -0.006894  0.000474  -0.004470 -0.011041   \n",
       "...                 ...       ...          ...       ...        ...       ...   \n",
       "2017-12-22     0.001845  0.002334     0.017281  0.000190   0.007159  0.028723   \n",
       "2017-12-26     0.001841  0.017548     0.002987  0.003991  -0.002165  0.001551   \n",
       "2017-12-27     0.016851  0.001471    -0.010795 -0.007571  -0.003606 -0.005679   \n",
       "2017-12-28    -0.004218 -0.010773     0.035748 -0.001144  -0.001545  0.002077   \n",
       "2017-12-29     0.006657  0.004042    -0.006176  0.005347   0.010422  0.011399   \n",
       "\n",
       "            RELIANCE.NS    TCS.NS  TITAN.NS  WIPRO.NS  \n",
       "Date                                                   \n",
       "2014-01-02    -0.015527  0.006362 -0.019281  0.000453  \n",
       "2014-01-03    -0.012286  0.025473  0.004639  0.006601  \n",
       "2014-01-06    -0.010761  0.007830  0.001759  0.002515  \n",
       "2014-01-07    -0.015030 -0.014936 -0.007682 -0.013978  \n",
       "2014-01-08     0.008253  0.012012 -0.014599 -0.005544  \n",
       "...                 ...       ...       ...       ...  \n",
       "2017-12-22     0.008160  0.019667 -0.001864  0.012930  \n",
       "2017-12-26     0.010213  0.001020 -0.002393  0.004310  \n",
       "2017-12-27    -0.006507 -0.011153 -0.006727  0.012215  \n",
       "2017-12-28     0.000487  0.002691  0.003121  0.004566  \n",
       "2017-12-29    -0.003408  0.028265  0.007573  0.020292  \n",
       "\n",
       "[983 rows x 10 columns]"
      ]
     },
     "execution_count": 297,
     "metadata": {},
     "output_type": "execute_result"
    }
   ],
   "source": [
    "df"
   ]
  },
  {
   "cell_type": "code",
   "execution_count": 298,
   "id": "6490a528",
   "metadata": {},
   "outputs": [],
   "source": [
    "corr=np.zeros((len(input_list),len(input_list)))\n",
    "adj_matrix=np.zeros((len(input_list),len(input_list)))"
   ]
  },
  {
   "cell_type": "code",
   "execution_count": 299,
   "id": "23328469",
   "metadata": {},
   "outputs": [],
   "source": [
    "corr_list=[]"
   ]
  },
  {
   "cell_type": "code",
   "execution_count": 300,
   "id": "1025c4f4",
   "metadata": {},
   "outputs": [],
   "source": [
    "def correlation(x,y):\n",
    "    x_mean=x.mean()\n",
    "    y_mean=y.mean()\n",
    "    num_sum=0\n",
    "    top_left_sqrd_sum=0\n",
    "    top_right_sqrd_sum=0\n",
    "    for i in range(len(x)):\n",
    "        top_left=(x[i]-x_mean)\n",
    "        top_right=(y[i]-y_mean)\n",
    "        num_sum+=(top_left*top_right)\n",
    "        top_left_sqrd_sum+=(top_left**2)\n",
    "        top_right_sqrd_sum+=(top_right**2)\n",
    "    corr_value=num_sum/((top_left_sqrd_sum*top_right_sqrd_sum)**(0.5))\n",
    "    return corr_value"
   ]
  },
  {
   "cell_type": "code",
   "execution_count": 301,
   "id": "bf63dbdb",
   "metadata": {},
   "outputs": [],
   "source": [
    "for i in range(0,len(input_list)):\n",
    "     for j in range(0,len(input_list)):\n",
    "            if i != j:\n",
    "                corr[i,j]=round(abs(correlation(df[input_list[i]],df[input_list[j]])),2)\n",
    "                corr_list.append(correlation(df[input_list[i]],df[input_list[j]]))"
   ]
  },
  {
   "cell_type": "code",
   "execution_count": 302,
   "id": "c78388f2",
   "metadata": {},
   "outputs": [
    {
     "data": {
      "text/plain": [
       "array([[0.  , 0.12, 0.43, 0.12, 0.15, 0.11, 0.12, 0.1 , 0.14, 0.11],\n",
       "       [0.12, 0.  , 0.14, 0.2 , 0.19, 0.17, 0.2 , 0.24, 0.17, 0.23],\n",
       "       [0.43, 0.14, 0.  , 0.14, 0.08, 0.07, 0.06, 0.1 , 0.09, 0.09],\n",
       "       [0.12, 0.2 , 0.14, 0.  , 0.15, 0.11, 0.13, 0.19, 0.15, 0.15],\n",
       "       [0.15, 0.19, 0.08, 0.15, 0.  , 0.24, 0.23, 0.21, 0.19, 0.26],\n",
       "       [0.11, 0.17, 0.07, 0.11, 0.24, 0.  , 0.28, 0.23, 0.37, 0.35],\n",
       "       [0.12, 0.2 , 0.06, 0.13, 0.23, 0.28, 0.  , 0.28, 0.27, 0.33],\n",
       "       [0.1 , 0.24, 0.1 , 0.19, 0.21, 0.23, 0.28, 0.  , 0.32, 0.3 ],\n",
       "       [0.14, 0.17, 0.09, 0.15, 0.19, 0.37, 0.27, 0.32, 0.  , 0.33],\n",
       "       [0.11, 0.23, 0.09, 0.15, 0.26, 0.35, 0.33, 0.3 , 0.33, 0.  ]])"
      ]
     },
     "execution_count": 302,
     "metadata": {},
     "output_type": "execute_result"
    }
   ],
   "source": [
    "corr"
   ]
  },
  {
   "cell_type": "code",
   "execution_count": 303,
   "id": "6b25907a",
   "metadata": {},
   "outputs": [],
   "source": [
    "corr_list.sort()\n",
    "Mean=sum(corr_list)/len(corr_list)\n",
    "if(len(corr_list)%2==0):\n",
    "    Median=(corr_list[len(corr_list)//2]+corr_list[(len(corr_list)//2)+1])/2\n",
    "else:\n",
    "    Median=corr_list[(len(corr_list)//2)+1]"
   ]
  },
  {
   "cell_type": "code",
   "execution_count": 304,
   "id": "3298c7b2",
   "metadata": {},
   "outputs": [
    {
     "name": "stdout",
     "output_type": "stream",
     "text": [
      "Mean =  0.1915141965799342 , Median=  0.18083286931884124\n"
     ]
    }
   ],
   "source": [
    "print(\"Mean = \" ,Mean,\", Median= \",Median)"
   ]
  },
  {
   "cell_type": "code",
   "execution_count": 305,
   "id": "8edd4871",
   "metadata": {},
   "outputs": [
    {
     "name": "stdout",
     "output_type": "stream",
     "text": [
      "0.08921280775374008\n"
     ]
    }
   ],
   "source": [
    "standard_deviation_sum=0\n",
    "for i in range(0,len(corr_list)):\n",
    "    standard_deviation_sum += (corr_list[i] - Mean) ** 2\n",
    "standard_deviation = ((standard_deviation_sum / (len(corr_list) - 1)) ** (0.5)) \n",
    "print(standard_deviation)"
   ]
  },
  {
   "cell_type": "code",
   "execution_count": 306,
   "id": "ecfd7f1b",
   "metadata": {},
   "outputs": [
    {
     "data": {
      "text/plain": [
       "[<matplotlib.lines.Line2D at 0x23c51dcc610>]"
      ]
     },
     "execution_count": 306,
     "metadata": {},
     "output_type": "execute_result"
    },
    {
     "data": {
      "image/png": "[encoded data removed]",
      "text/plain": [
       "<Figure size 432x288 with 1 Axes>"
      ]
     },
     "metadata": {
      "needs_background": "light"
     },
     "output_type": "display_data"
    }
   ],
   "source": [
    "#threshold for uncorrelated portfolio(Diversified) must be 16 percent lowest correlation\n",
    "#threshold=Mean+standard_deviation\n",
    "plt.plot(corr_list,scipy.norm.pdf(corr_list, Mean, standard_deviation))"
   ]
  },
  {
   "cell_type": "code",
   "execution_count": 307,
   "id": "7cd4b4ab",
   "metadata": {},
   "outputs": [
    {
     "name": "stdout",
     "output_type": "stream",
     "text": [
      "0.28072700433367426\n"
     ]
    }
   ],
   "source": [
    "determined_threshold=Mean+standard_deviation\n",
    "print(determined_threshold)"
   ]
  },
  {
   "cell_type": "code",
   "execution_count": 308,
   "id": "a92d570f",
   "metadata": {},
   "outputs": [],
   "source": [
    "#uncorrelated portfolio(Diversified)\n",
    "\n",
    "for i in range(0,len(input_list)):\n",
    "     for j in range(0,len(input_list)):\n",
    "            if i != j:\n",
    "                if corr[i,j]<=determined_threshold:\n",
    "                    adj_matrix[i,j]=1"
   ]
  },
  {
   "cell_type": "code",
   "execution_count": 309,
   "id": "b8c5b594",
   "metadata": {},
   "outputs": [
    {
     "data": {
      "text/plain": [
       "array([[0., 1., 0., 1., 1., 1., 1., 1., 1., 1.],\n",
       "       [1., 0., 1., 1., 1., 1., 1., 1., 1., 1.],\n",
       "       [0., 1., 0., 1., 1., 1., 1., 1., 1., 1.],\n",
       "       [1., 1., 1., 0., 1., 1., 1., 1., 1., 1.],\n",
       "       [1., 1., 1., 1., 0., 1., 1., 1., 1., 1.],\n",
       "       [1., 1., 1., 1., 1., 0., 1., 1., 0., 0.],\n",
       "       [1., 1., 1., 1., 1., 1., 0., 1., 1., 0.],\n",
       "       [1., 1., 1., 1., 1., 1., 1., 0., 0., 0.],\n",
       "       [1., 1., 1., 1., 1., 0., 1., 0., 0., 0.],\n",
       "       [1., 1., 1., 1., 1., 0., 0., 0., 0., 0.]])"
      ]
     },
     "execution_count": 309,
     "metadata": {},
     "output_type": "execute_result"
    }
   ],
   "source": [
    "adj_matrix"
   ]
  },
  {
   "cell_type": "code",
   "execution_count": 310,
   "id": "5918ea8f",
   "metadata": {},
   "outputs": [],
   "source": [
    "G = nx.from_numpy_matrix(adj_matrix)"
   ]
  },
  {
   "cell_type": "code",
   "execution_count": 311,
   "id": "8075bbbb",
   "metadata": {},
   "outputs": [],
   "source": [
    "all_graphs = [s for s in nx.enumerate_all_cliques(G) if len(s) > 1]"
   ]
  },
  {
   "cell_type": "code",
   "execution_count": 312,
   "id": "4ca1c645",
   "metadata": {},
   "outputs": [
    {
     "data": {
      "text/plain": [
       "['WIPRO.NS',\n",
       " 'TITAN.NS',\n",
       " 'TCS.NS',\n",
       " 'ITC.NS',\n",
       " 'CIPLA.NS',\n",
       " 'ONGC.NS',\n",
       " 'ADANIENT.NS',\n",
       " 'MARUTI.NS',\n",
       " 'RELIANCE.NS',\n",
       " 'HINDALCO.NS']"
      ]
     },
     "execution_count": 312,
     "metadata": {},
     "output_type": "execute_result"
    }
   ],
   "source": [
    "input_list"
   ]
  },
  {
   "cell_type": "code",
   "execution_count": 314,
   "id": "74546be3",
   "metadata": {},
   "outputs": [],
   "source": [
    "largest_subgraph=all_graphs[len(all_graphs)-1]"
   ]
  },
  {
   "cell_type": "code",
   "execution_count": 315,
   "id": "7a90f127",
   "metadata": {},
   "outputs": [
    {
     "data": {
      "text/plain": [
       "[1, 2, 3, 4, 5, 6, 7]"
      ]
     },
     "execution_count": 315,
     "metadata": {},
     "output_type": "execute_result"
    }
   ],
   "source": [
    "largest_subgraph"
   ]
  },
  {
   "cell_type": "code",
   "execution_count": 316,
   "id": "bbfcc590",
   "metadata": {},
   "outputs": [],
   "source": [
    "maps = []\n",
    "largest_subgraph_map=[]\n",
    "for i in range(len(input_list)):\n",
    "    if i in largest_subgraph:\n",
    "        maps.append('#C21807')\n",
    "        largest_subgraph_map.append(input_list[i])\n",
    "    else:\n",
    "        maps.append('black')\n",
    "        "
   ]
  },
  {
   "cell_type": "code",
   "execution_count": 317,
   "id": "4dca1759",
   "metadata": {},
   "outputs": [
    {
     "data": {
      "text/plain": [
       "['black',\n",
       " '#C21807',\n",
       " '#C21807',\n",
       " '#C21807',\n",
       " '#C21807',\n",
       " '#C21807',\n",
       " '#C21807',\n",
       " '#C21807',\n",
       " 'black',\n",
       " 'black']"
      ]
     },
     "execution_count": 317,
     "metadata": {},
     "output_type": "execute_result"
    }
   ],
   "source": [
    "maps"
   ]
  },
  {
   "cell_type": "code",
   "execution_count": 318,
   "id": "30443c83",
   "metadata": {},
   "outputs": [
    {
     "data": {
      "text/plain": [
       "['TITAN.NS',\n",
       " 'TCS.NS',\n",
       " 'ITC.NS',\n",
       " 'CIPLA.NS',\n",
       " 'ONGC.NS',\n",
       " 'ADANIENT.NS',\n",
       " 'MARUTI.NS']"
      ]
     },
     "execution_count": 318,
     "metadata": {},
     "output_type": "execute_result"
    }
   ],
   "source": [
    "largest_subgraph_map"
   ]
  },
  {
   "cell_type": "code",
   "execution_count": 319,
   "id": "af37c1ae",
   "metadata": {},
   "outputs": [],
   "source": [
    "labels={}\n",
    "for i in range(len(input_list)):\n",
    "    labels[i]=input_list[i][:-3]"
   ]
  },
  {
   "cell_type": "code",
   "execution_count": 320,
   "id": "843dfc62",
   "metadata": {},
   "outputs": [
    {
     "data": {
      "text/plain": [
       "{0: 'WIPRO',\n",
       " 1: 'TITAN',\n",
       " 2: 'TCS',\n",
       " 3: 'ITC',\n",
       " 4: 'CIPLA',\n",
       " 5: 'ONGC',\n",
       " 6: 'ADANIENT',\n",
       " 7: 'MARUTI',\n",
       " 8: 'RELIANCE',\n",
       " 9: 'HINDALCO'}"
      ]
     },
     "execution_count": 320,
     "metadata": {},
     "output_type": "execute_result"
    }
   ],
   "source": [
    "labels"
   ]
  },
  {
   "cell_type": "code",
   "execution_count": 322,
   "id": "492989f6",
   "metadata": {},
   "outputs": [
    {
     "data": {
      "image/png": "[encoded data removed]",
      "text/plain": [
       "<Figure size 432x288 with 1 Axes>"
      ]
     },
     "metadata": {},
     "output_type": "display_data"
    }
   ],
   "source": [
    "nx.draw(G,labels=labels,with_labels=True,node_size=2500,font_size=10,font_color=\"white\")"
   ]
  },
  {
   "cell_type": "code",
   "execution_count": 321,
   "id": "f570fbe0",
   "metadata": {},
   "outputs": [
    {
     "data": {
      "image/png": "[encoded data removed]",
      "text/plain": [
       "<Figure size 432x288 with 1 Axes>"
      ]
     },
     "metadata": {},
     "output_type": "display_data"
    }
   ],
   "source": [
    "nx.draw(G,node_color=maps,with_labels=True,node_size=2500,font_size=10,font_color=\"white\",labels=labels)"
   ]
  },
  {
   "cell_type": "code",
   "execution_count": null,
   "id": "a00e3fe0",
   "metadata": {},
   "outputs": [],
   "source": []
  }
 ],
 "metadata": {
  "kernelspec": {
   "display_name": "Python 3 (ipykernel)",
   "language": "python",
   "name": "python3"
  },
  "language_info": {
   "codemirror_mode": {
    "name": "ipython",
    "version": 3
   },
   "file_extension": ".py",
   "mimetype": "text/x-python",
   "name": "python",
   "nbconvert_exporter": "python",
   "pygments_lexer": "ipython3",
   "version": "3.9.12"
  }
 },
 "nbformat": 4,
 "nbformat_minor": 5
}
